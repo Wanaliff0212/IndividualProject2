{
  "cells": [
    {
      "cell_type": "markdown",
      "metadata": {
        "id": "view-in-github",
        "colab_type": "text"
      },
      "source": [
        "<a href=\"https://colab.research.google.com/github/Wanaliff0212/IndividualProject2/blob/main/SimpleCalculator.ipynb\" target=\"_parent\"><img src=\"https://colab.research.google.com/assets/colab-badge.svg\" alt=\"Open In Colab\"/></a>"
      ]
    },
    {
      "cell_type": "markdown",
      "metadata": {
        "id": "R9zdWH-70RJb"
      },
      "source": [
        "# Individual Project Theme 2"
      ]
    },
    {
      "cell_type": "markdown",
      "metadata": {
        "id": "scACHma90RJf"
      },
      "source": [
        "## Simple Calculator"
      ]
    },
    {
      "cell_type": "markdown",
      "metadata": {
        "id": "lE76KWhk0RJg"
      },
      "source": [
        "**How to use this notebook and complete the project?**\n",
        "\n",
        "1. You need to answer all required questions by answering in the markdown cell.\n",
        "2. Read the instruction and fill in the #todo sections.\n",
        "3. Run all the cells to store the results of each codes.\n",
        "5. Push this notebook to your GitHub reporitory by creating a new repository, named `IndividualProject`. Set this repository as `Public`."
      ]
    },
    {
      "cell_type": "markdown",
      "metadata": {
        "id": "4LOcr5oT0RJg"
      },
      "source": [
        "**Introduction**\n",
        "\n",
        "Imagine you are going to program a simple calculator.\n",
        "Basic calculations for calculator, are addition, subtraction, multiplication and division. Note that the calculator is not going to do a calculation for whole numbers only, decimals are also involved."
      ]
    },
    {
      "cell_type": "markdown",
      "metadata": {
        "id": "CzKQ3uHo0RJh"
      },
      "source": [
        "**Question 1**:\n",
        "\n",
        "Draw a flowchart to write the program of this task. You may draw a flowchart by using *powerpoint*, then save it as a picture in `.jpg` or `.png`. Then, use this command to the *Answer* column below.\n",
        "`<img src=_____.jpg>`"
      ]
    },
    {
      "cell_type": "markdown",
      "metadata": {
        "id": "87SUEOrm0RJh"
      },
      "source": [
        "**Answer**: <img src=FlowchartCalculator.jpg>"
      ]
    },
    {
      "cell_type": "markdown",
      "metadata": {
        "id": "cVD0prXx0RJh"
      },
      "source": [
        "**Step 1**:\n",
        "\n",
        "#TODO\n",
        "\n",
        "Ask users for input. We’ll start writing our program at the point where the human enters the numbers that they would like the computer to work with. For this program, we would like the user to input two numbers, so let’s have the program ask for two numbers. When asking for input, we should include a space at the end of our string so that there is a space between the user’s input and the asked string."
      ]
    },
    {
      "cell_type": "code",
      "execution_count": null,
      "metadata": {
        "id": "uho11TIN0RJi"
      },
      "outputs": [],
      "source": [
        "#TODO\n",
        "#Ask user for two inputs\n",
        "\n",
        "number_1 = None\n",
        "number_2 = None"
      ]
    },
    {
      "cell_type": "markdown",
      "metadata": {
        "id": "RNwigDSh0RJk"
      },
      "source": [
        "**Step 2**\n",
        "\n",
        "#TODO\n",
        "\n",
        "By using `try` and `except` statement, write down a function to determine whether input numbers are integers or decimals."
      ]
    },
    {
      "cell_type": "code",
      "execution_count": null,
      "metadata": {
        "id": "gD01KxKy0RJk"
      },
      "outputs": [],
      "source": [
        "#TODO\n",
        "\n",
        "def number_type(number):\n",
        "    try:\n",
        "        pass\n",
        "    except ValueError:\n",
        "        pass\n",
        "\n",
        "num_1 = number_type(number_1)\n",
        "num_2 = number_type(number_2)\n",
        "print(type(num_1), type(num_2))"
      ]
    },
    {
      "cell_type": "markdown",
      "metadata": {
        "id": "wvvK46Lx0RJk"
      },
      "source": [
        "**Step 3**\n",
        "\n",
        "#TODO\n",
        "\n",
        "We’ll name the function `calculate()` and add an additional layer of indentation within the function itself. Function `calculate()` is defining arithmetic operations."
      ]
    },
    {
      "cell_type": "code",
      "execution_count": null,
      "metadata": {
        "scrolled": true,
        "id": "mhSl1sX40RJl"
      },
      "outputs": [],
      "source": [
        "#TODO\n",
        "\n",
        "def calculate(num_1, num_2, operation):\n",
        "\n",
        "    #addition\n",
        "\n",
        "\n",
        "    #subtraction\n",
        "\n",
        "\n",
        "    #multiplication\n",
        "\n",
        "\n",
        "    #division\n",
        "\n",
        "    return None"
      ]
    },
    {
      "cell_type": "markdown",
      "metadata": {
        "id": "qE-YNsNQ0RJl"
      },
      "source": [
        "**Step 4**\n",
        "\n",
        "#TODO\n",
        "\n",
        "Define an `again()` function to ask user either he/she wants to do a a calculation again or not."
      ]
    },
    {
      "cell_type": "code",
      "execution_count": null,
      "metadata": {
        "id": "1C5qIaHv0RJl"
      },
      "outputs": [],
      "source": [
        "#TODO\n",
        "def again(calc_again, previous):\n",
        "    if calc_again.upper() == 'YY':\n",
        "        return None\n",
        "    elif calc_again.upper()  == 'Y':\n",
        "        return None\n",
        "    else:\n",
        "        return 'See you later.'\n"
      ]
    },
    {
      "cell_type": "markdown",
      "metadata": {
        "id": "BTh-jKkY0RJl"
      },
      "source": [
        "**Step 5**\n",
        "\n",
        "Write a `while` loop to operate the calculator until it says No and `break` the loop."
      ]
    },
    {
      "cell_type": "code",
      "execution_count": null,
      "metadata": {
        "id": "BV6ruzZI0RJm"
      },
      "outputs": [],
      "source": [
        "operation = input(\"Please type the operation that you would like to complete (+, -, * or /): \")\n",
        "result = calculate(num_1, num_2, operation)\n",
        "print(result)\n",
        "\n",
        "#TODO\n",
        "while True:             # Loop continuously\n",
        "    pass"
      ]
    },
    {
      "cell_type": "markdown",
      "metadata": {
        "id": "WSrTq3E_0RJm"
      },
      "source": [
        "**BONUS**\n",
        "\n",
        "Add complicated operations in your calculator. For example, calculation a square root or root of a number by using $\\surd$"
      ]
    },
    {
      "cell_type": "code",
      "execution_count": null,
      "metadata": {
        "id": "TKTUmiGx0RJm"
      },
      "outputs": [],
      "source": []
    },
    {
      "cell_type": "markdown",
      "metadata": {
        "id": "n_1gKOa00RJm"
      },
      "source": [
        "**Question 2**:\n",
        "\n",
        "How would you like to improve your calculator codes?"
      ]
    },
    {
      "cell_type": "markdown",
      "metadata": {
        "id": "DvfsE46a0RJm"
      },
      "source": [
        "**Answer**: I would like to improve my calculator code by adding more advanced mathematical operations and improve error handling to managed invalid inputs by users."
      ]
    }
  ],
  "metadata": {
    "kernelspec": {
      "display_name": "Python 3",
      "language": "python",
      "name": "python3"
    },
    "language_info": {
      "codemirror_mode": {
        "name": "ipython",
        "version": 3
      },
      "file_extension": ".py",
      "mimetype": "text/x-python",
      "name": "python",
      "nbconvert_exporter": "python",
      "pygments_lexer": "ipython3",
      "version": "3.7.3"
    },
    "colab": {
      "provenance": [],
      "include_colab_link": true
    }
  },
  "nbformat": 4,
  "nbformat_minor": 0
}
